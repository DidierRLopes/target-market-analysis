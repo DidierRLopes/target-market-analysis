{
 "cells": [
  {
   "cell_type": "code",
   "execution_count": null,
   "id": "453927b3-78a9-4be3-a535-aef26e52ebae",
   "metadata": {
    "tags": []
   },
   "outputs": [],
   "source": [
    "import os\n",
    "import json\n",
    "import pandas as pd\n",
    "import openai\n",
    "import difflib\n",
    "\n",
    "openai.api_key = \"REPLACE_ME\""
   ]
  },
  {
   "cell_type": "code",
   "execution_count": null,
   "id": "7335626b-ecf2-41b1-8e74-1a30577e3477",
   "metadata": {
    "tags": []
   },
   "outputs": [],
   "source": [
    "file_path = \"Custom Target Market Analysis.xlsx\"\n",
    "sheet_name = \"Framework\"\n",
    "df = pd.read_excel(file_path, sheet_name, engine=\"openpyxl\")"
   ]
  },
  {
   "cell_type": "code",
   "execution_count": null,
   "id": "87b97af0-4d31-4abe-84c1-cbc6044e0e42",
   "metadata": {
    "tags": []
   },
   "outputs": [],
   "source": [
    "# Sometimes we mispell so we don't want to rely on a 1:1 ratio.\n",
    "# this allows some margin for error like capitals and typos\n",
    "def ordered_similarity_ratio(input_string, string_list):\n",
    "    similarity_ratios = []\n",
    "    for string in string_list:\n",
    "        similarity_ratio = difflib.SequenceMatcher(None, input_string, string).ratio()\n",
    "        similarity_ratios.append(similarity_ratio)\n",
    "\n",
    "    return similarity_ratios"
   ]
  },
  {
   "cell_type": "markdown",
   "id": "72d22c61-9b8f-48bf-afd0-d5d4223012a7",
   "metadata": {},
   "source": [
    "# Extract Framework"
   ]
  },
  {
   "cell_type": "code",
   "execution_count": null,
   "id": "a9e2f068-a177-4bc2-9405-3b459a32077d",
   "metadata": {
    "tags": []
   },
   "outputs": [],
   "source": [
    "target_market_attractiveness = {}\n",
    "\n",
    "for i in range (10):\n",
    "    factor = df[df.columns[0]].values[6+i]\n",
    "    if type(factor) == str:\n",
    "        target_market_attractiveness[factor] = {}\n",
    "\n",
    "within_factor_levels = False\n",
    "factor_level_desc = {}\n",
    "\n",
    "for factor, lvl in zip(df[df.columns[0]].values[17:], df[df.columns[1]].values[17:]):\n",
    "    \n",
    "    if within_factor_levels:\n",
    "        # Found a nan which means we have found all the level descriptions\n",
    "        if type(factor) != str:\n",
    "            # The factor will be the one with the id of the max value\n",
    "            target_market_attractiveness[list(target_market_attractiveness.keys())[similarity.idxmax()]] = factor_level_desc\n",
    "            \n",
    "            # reinitialize the dictionary\n",
    "            within_factor_levels = False\n",
    "            factor_level_desc = {}\n",
    "        \n",
    "        else:\n",
    "            factor_level_desc[factor] = lvl\n",
    "        \n",
    "    else:\n",
    "        if type(factor) == str:\n",
    "            similarity = pd.Series(ordered_similarity_ratio(factor, target_market_attractiveness.keys()))\n",
    "            # We are above the threshold which means that the factor has been found\n",
    "            if similarity.max() > 0.7:\n",
    "                within_factor_levels = True\n",
    "\n",
    "# Update last populated factor level range\n",
    "if factor_level_desc:\n",
    "    # The factor will be the one with the id of the max value\n",
    "    target_market_attractiveness[list(target_market_attractiveness.keys())[similarity.idxmax()]] = factor_level_desc\n",
    "\n",
    "print(\"TARGET MARKET ATTRACTIVENESS\\n\")\n",
    "for factor in target_market_attractiveness:\n",
    "    print(factor)\n",
    "    for factor_lvl_desc,factor_lvl in target_market_attractiveness[factor].items():\n",
    "        print(f\"   {factor_lvl} - {factor_lvl_desc}\")\n",
    "    print(\"\")"
   ]
  },
  {
   "cell_type": "code",
   "execution_count": null,
   "id": "e824d71f-f20d-482d-a926-7ce22d1f2298",
   "metadata": {
    "tags": []
   },
   "outputs": [],
   "source": [
    "competitive_advantage = {}\n",
    "\n",
    "for i in range (10):\n",
    "    factor = df[df.columns[3]].values[6+i]\n",
    "    if type(factor) == str:\n",
    "        competitive_advantage[factor] = {}\n",
    "\n",
    "within_factor_levels = False\n",
    "factor_level_desc = {}\n",
    "\n",
    "for factor, lvl in zip(df[df.columns[3]].values[17:], df[df.columns[4]].values[17:]):\n",
    "    \n",
    "    if within_factor_levels:\n",
    "        # Found a nan which means we have found all the level descriptions\n",
    "        if type(factor) != str:\n",
    "            # The factor will be the one with the id of the max value\n",
    "            competitive_advantage[list(competitive_advantage.keys())[similarity.idxmax()]] = factor_level_desc\n",
    "            \n",
    "            # reinitialize the dictionary\n",
    "            within_factor_levels = False\n",
    "            factor_level_desc = {}\n",
    "        \n",
    "        else:\n",
    "            factor_level_desc[factor] = lvl\n",
    "        \n",
    "    else:\n",
    "        if type(factor) == str:\n",
    "            similarity = pd.Series(ordered_similarity_ratio(factor, competitive_advantage.keys()))\n",
    "            # We are above the threshold which means that the factor has been found\n",
    "            if similarity.max() > 0.7:\n",
    "                within_factor_levels = True\n",
    "\n",
    "# Update last populated factor level range\n",
    "if factor_level_desc:\n",
    "    # The factor will be the one with the id of the max value\n",
    "    competitive_advantage[list(competitive_advantage.keys())[similarity.idxmax()]] = factor_level_desc\n",
    "\n",
    "print(\"COMPETITIVE ADVANTAGE\\n\")\n",
    "for factor in competitive_advantage:\n",
    "    print(factor)\n",
    "    for factor_lvl_desc,factor_lvl in competitive_advantage[factor].items():\n",
    "        print(f\"   {factor_lvl} - {factor_lvl_desc}\")\n",
    "    print(\"\")"
   ]
  },
  {
   "cell_type": "markdown",
   "id": "86935620-c8cb-413e-a28c-cbfb3edb416c",
   "metadata": {},
   "source": [
    "# Prompt"
   ]
  },
  {
   "cell_type": "code",
   "execution_count": null,
   "id": "0ca24d7a-5633-457d-8074-f3783d7284a9",
   "metadata": {
    "tags": []
   },
   "outputs": [],
   "source": [
    "TARGET_MARKET = [\"TargetMarket1\"]"
   ]
  },
  {
   "cell_type": "code",
   "execution_count": null,
   "id": "6ab8ee18-25f5-46ad-878f-2a89ca03faf3",
   "metadata": {
    "tags": []
   },
   "outputs": [],
   "source": [
    "prompt = f\"We want to assess the attractiveness of the following target market: '{TARGET_MARKET[0]}'\\n\\n\"\n",
    "prompt += \"The factors that we will access this market are presented below: \\n\\n\"\n",
    "for factor in target_market_attractiveness:\n",
    "    prompt += f\"When assessing {factor}, these are the rules:\\n\"\n",
    "    for factor_lvl_desc,factor_lvl in target_market_attractiveness[factor].items():\n",
    "        prompt += f\"We attribute a value of {factor_lvl} if {factor_lvl_desc}\\n\"\n",
    "    prompt += \"\\n\"\n",
    "    \n",
    "prompt += f\"Given this information, can you return a level for each of the factors that is representative of {TARGET_MARKET[0]} target market\\n\"\n",
    "prompt += \"Please return it in a json dictionary format with the factor and level only. Do not add any other text apart from that. Indent the json with 4 spaces.\"\n",
    "\n",
    "print(prompt)"
   ]
  },
  {
   "cell_type": "code",
   "execution_count": null,
   "id": "b15eafbf-2f5c-49f5-8ad4-af4d4274f45f",
   "metadata": {
    "tags": []
   },
   "outputs": [],
   "source": [
    "response = openai.ChatCompletion.create(\n",
    "  model=\"gpt-4\",\n",
    "  messages=[\n",
    "        {\n",
    "            \"role\": \"system\", \n",
    "             \"content\": \n",
    "                \"\"\"\n",
    "            You are an outstanding financial analyst and were given the task to perform market research on a possible market segment.\n",
    "            The company succces relies on your accuracy to categorize a segment and classify according to the factors and levels specified.\n",
    "                \"\"\"\n",
    "        },\n",
    "        {\n",
    "            \"role\": \"user\", \n",
    "             \"content\": prompt\n",
    "        },\n",
    "    ]\n",
    ")\n",
    "print(response.choices[0].message.content)"
   ]
  },
  {
   "cell_type": "code",
   "execution_count": null,
   "id": "a2ff0254-00d7-492f-990a-2c35de21ad54",
   "metadata": {
    "tags": []
   },
   "outputs": [],
   "source": [
    "prompt = f\"We want to assess our competitive advantage based in relation with factors where we are have an advantage. Can you classify those for the following target market: '{TARGET_MARKET[0]}'\\n\\n\"\n",
    "prompt += \"The factors that we will access this market are presented below: \\n\\n\"\n",
    "for factor in competitive_advantage:\n",
    "    prompt += f\"When assessing {factor}, these are the rules:\\n\"\n",
    "    for factor_lvl_desc,factor_lvl in competitive_advantage[factor].items():\n",
    "        prompt += f\"We attribute a value of {factor_lvl} if {factor_lvl_desc}\\n\"\n",
    "    prompt += \"\\n\"\n",
    "    \n",
    "prompt += f\"Given this information, can you return a level for each of the factors that is our competitive advantage from a viewpoint of {TARGET_MARKET[0]} target market.\\n\"\n",
    "prompt += \"Please return it in a json dictionary format with the factor and level only. Do not add any other text apart from that. Indent the json with 4 spaces.\"\n",
    "\n",
    "print(prompt)"
   ]
  },
  {
   "cell_type": "code",
   "execution_count": null,
   "id": "35206c6e-bb84-4d15-9e10-88056ce8448c",
   "metadata": {},
   "outputs": [],
   "source": [
    "response = openai.ChatCompletion.create(\n",
    "  model=\"gpt-4\",\n",
    "  messages=[\n",
    "        {\n",
    "            \"role\": \"system\", \n",
    "             \"content\": \n",
    "                \"\"\"\n",
    "            You are an outstanding financial analyst and were given the task to perform market research on a possible market segment.\n",
    "            The company succces relies on your accuracy to categorize a segment and classify according to the factors and levels specified.\n",
    "                \"\"\"\n",
    "        },\n",
    "        {\n",
    "            \"role\": \"user\", \n",
    "             \"content\": prompt\n",
    "        },\n",
    "    ]\n",
    ")\n",
    "print(response.choices[0].message.content)"
   ]
  },
  {
   "cell_type": "code",
   "execution_count": null,
   "id": "edc10181-e2a6-4cd2-aaee-bf99607f64ff",
   "metadata": {},
   "outputs": [],
   "source": [
    "market_segment = \"TargetMarket1\"\n",
    "\n",
    "response = openai.ChatCompletion.create(\n",
    "      model=\"gpt-4\",\n",
    "      messages=[\n",
    "            {\n",
    "                \"role\": \"system\", \n",
    "                 \"content\": \n",
    "                    \"\"\"\n",
    "                You are an outstanding financial analyst and were given the task to perform market research on a possible market segment.\n",
    "                The company succces relies on your description of the provided market segment and how they perform investment research.\n",
    "                    \"\"\"\n",
    "            },\n",
    "            {\n",
    "                \"role\": \"user\", \n",
    "                 \"content\":\n",
    "                    f\"\"\"\n",
    "                Can you explain in detail how {market_segment} performs investment research.\n",
    "                What are the individuals involved in the investment research process?\n",
    "                What roles do they have, how big is the team, and what does their day to day look like.\n",
    "                What tools are these people likely using?\n",
    "                Go in as much detail as possible \n",
    "                    \"\"\"\n",
    "            },\n",
    "        ]\n",
    "    )\n",
    "\n",
    "print(response.choices[0].message.content)"
   ]
  },
  {
   "cell_type": "markdown",
   "id": "bad657f7-58d7-4cf3-b8bd-e64badc1584c",
   "metadata": {},
   "source": [
    "# Run for all Target Markets of interest"
   ]
  },
  {
   "cell_type": "code",
   "execution_count": null,
   "id": "41b16224-11ce-4754-9698-9b44591e47e7",
   "metadata": {
    "tags": []
   },
   "outputs": [],
   "source": [
    "TARGET_MARKET = [\n",
    "    \"TargetMarket1\",\n",
    "    \"TargetMarket2\",\n",
    "    \"TargetMarket3\",\n",
    "]"
   ]
  },
  {
   "cell_type": "code",
   "execution_count": null,
   "id": "62c67090-5222-40ef-9e96-d80de3e6260a",
   "metadata": {
    "tags": []
   },
   "outputs": [],
   "source": [
    "for target_market in TARGET_MARKET:\n",
    "    \n",
    "    print(f\"--------------- TARGET MARKET: {target_market} ---------------\")\n",
    "    \n",
    "    print(f\"\\n--- {target_market} ATTRACTIVENESS ---\\n\")\n",
    "\n",
    "    prompt = f\"We want to assess the attractiveness of the following target market: '{target_market}'\\n\\n\"\n",
    "    prompt += \"The factors that we will access this market are presented below: \\n\\n\"\n",
    "    for factor in target_market_attractiveness:\n",
    "        prompt += f\"When assessing {factor}, these are the rules:\\n\"\n",
    "        for factor_lvl_desc,factor_lvl in target_market_attractiveness[factor].items():\n",
    "            prompt += f\"We attribute a value of {factor_lvl} if {factor_lvl_desc}\\n\"\n",
    "        prompt += \"\\n\"\n",
    "    prompt += f\"Given this information, can you return a level for each of the factors that is representative of {target_market} target market\\n\"\n",
    "    prompt += \"Please return it in a json dictionary format with the factor and level only. Indent the json with 4 spaces. Do not add any other text apart from that. Just the dictionary!\"\n",
    "\n",
    "    response = openai.ChatCompletion.create(\n",
    "      model=\"gpt-4\",\n",
    "      messages=[\n",
    "            {\n",
    "                \"role\": \"system\", \n",
    "                 \"content\": \n",
    "                    \"\"\"\n",
    "                You are an outstanding financial analyst and were given the task to perform market research on a possible market segment.\n",
    "                The company succces relies on your accuracy to categorize a segment and classify according to the factors and levels specified.\n",
    "                    \"\"\"\n",
    "            },\n",
    "            {\n",
    "                \"role\": \"user\", \n",
    "                 \"content\": prompt\n",
    "            },\n",
    "        ]\n",
    "    )\n",
    "    \n",
    "    print(response.choices[0].message.content)\n",
    "    \n",
    "    print(f\"\\n--- {target_market} COMPETITIVE ADVANTAGE ---\\n\")\n",
    "\n",
    "    prompt = f\"We want to assess our competitive advantage based in relation with factors where we are have an advantage. Can you classify those for the following target market: '{target_market}'\\n\\n\"\n",
    "    prompt += \"The factors that we will access this market are presented below: \\n\\n\"\n",
    "    for factor in competitive_advantage:\n",
    "        prompt += f\"When assessing {factor}, these are the rules:\\n\"\n",
    "        for factor_lvl_desc,factor_lvl in competitive_advantage[factor].items():\n",
    "            prompt += f\"We attribute a value of {factor_lvl} if {factor_lvl_desc}\\n\"\n",
    "        prompt += \"\\n\"\n",
    "\n",
    "    prompt += f\"Given this information, can you return a level for each of the factors that is our competitive advantage from a viewpoint of {target_market} target market.\\n\"\n",
    "    prompt += \"Please return it in a json dictionary format with the factor and level only. Indent the json with 4 spaces. Do not add any other text apart from that. Just the dictionary!\"\n",
    "\n",
    "    response = openai.ChatCompletion.create(\n",
    "      model=\"gpt-4\",\n",
    "      messages=[\n",
    "            {\n",
    "                \"role\": \"system\", \n",
    "                 \"content\": \n",
    "                    \"\"\"\n",
    "                You are an outstanding financial analyst and were given the task to perform market research on a possible market segment.\n",
    "                The company succces relies on your accuracy to categorize a segment and classify according to the factors and levels specified.\n",
    "                    \"\"\"\n",
    "            },\n",
    "            {\n",
    "                \"role\": \"user\", \n",
    "                 \"content\": prompt\n",
    "            },\n",
    "        ]\n",
    "    )\n",
    "    \n",
    "    print(response.choices[0].message.content)\n",
    "    \n",
    "    \n",
    "    print(f\"\\n--- {target_market} DESCRIPTION ---\\n\")\n",
    "    \n",
    "    response = openai.ChatCompletion.create(\n",
    "      model=\"gpt-4\",\n",
    "      messages=[\n",
    "            {\n",
    "                \"role\": \"system\", \n",
    "                 \"content\": \n",
    "                    \"\"\"\n",
    "                You are an outstanding financial analyst and were given the task to perform market research on a possible market segment.\n",
    "                The company succces relies on your description of the provided market segment and how they perform investment research.\n",
    "                    \"\"\"\n",
    "            },\n",
    "            {\n",
    "                \"role\": \"user\", \n",
    "                 \"content\":\n",
    "                    f\"\"\"\n",
    "                Can you explain in detail how {target_market} performs investment research.\n",
    "                What are the individuals involved in the investment research process?\n",
    "                What roles do they have, how big is the team, and what does their day to day look like.\n",
    "                What tools are these people likely using?\n",
    "                Go in as much detail as possible \n",
    "                    \"\"\"\n",
    "            },\n",
    "        ]\n",
    "    )\n",
    "    \n",
    "    print(response.choices[0].message.content)\n",
    "    \n",
    "    print(\"\\n\\n\")"
   ]
  },
  {
   "cell_type": "code",
   "execution_count": null,
   "id": "09ec9015-cb03-49aa-8c26-2168d6b92087",
   "metadata": {},
   "outputs": [],
   "source": []
  }
 ],
 "metadata": {
  "kernelspec": {
   "display_name": "Python 3 (ipykernel)",
   "language": "python",
   "name": "python3"
  },
  "language_info": {
   "codemirror_mode": {
    "name": "ipython",
    "version": 3
   },
   "file_extension": ".py",
   "mimetype": "text/x-python",
   "name": "python",
   "nbconvert_exporter": "python",
   "pygments_lexer": "ipython3",
   "version": "3.9.13"
  }
 },
 "nbformat": 4,
 "nbformat_minor": 5
}
